{
 "cells": [
  {
   "cell_type": "code",
   "execution_count": 3,
   "metadata": {},
   "outputs": [
    {
     "name": "stdout",
     "output_type": "stream",
     "text": [
      "6219.9\n"
     ]
    }
   ],
   "source": [
    "#Problem Statement 1: \n",
    "# Find the variance for the following set of data representing trees in California (heights in feet):  3, 21, 98, 203, 17, 9\n",
    "\n",
    "import math\n",
    "list = [3,21,98,203,17,9]\n",
    "mean = sum (list) / sum (1 for i in list)\n",
    "Variance = 0\n",
    "for i in list:\n",
    "    var = (i- mean) **2 / (sum (1 for i in list)-1)\n",
    "    Variance += (var)\n",
    "print (Variance)"
   ]
  }
 ],
 "metadata": {
  "kernelspec": {
   "display_name": "Python 3",
   "language": "python",
   "name": "python3"
  },
  "language_info": {
   "codemirror_mode": {
    "name": "ipython",
    "version": 3
   },
   "file_extension": ".py",
   "mimetype": "text/x-python",
   "name": "python",
   "nbconvert_exporter": "python",
   "pygments_lexer": "ipython3",
   "version": "3.6.3"
  }
 },
 "nbformat": 4,
 "nbformat_minor": 2
}
